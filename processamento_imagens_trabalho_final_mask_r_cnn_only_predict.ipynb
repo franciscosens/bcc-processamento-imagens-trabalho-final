{
  "nbformat": 4,
  "nbformat_minor": 0,
  "metadata": {
    "colab": {
      "name": "processamento_imagens_trabalho_final_mask_r_cnn_only_predict.ipynb",
      "provenance": []
    },
    "kernelspec": {
      "name": "python3",
      "display_name": "Python 3"
    },
    "accelerator": "GPU"
  },
  "cells": [
    {
      "cell_type": "code",
      "metadata": {
        "id": "NcHto--6bSEO",
        "colab_type": "code",
        "colab": {}
      },
      "source": [
        "# Apagar a pasta caso existir\n",
        "import shutil\n",
        "shutil.rmtree('projeto-final', ignore_errors=True)\n",
        "shutil.rmtree('sample_data', ignore_errors=True)\n",
        "\n",
        "# Criar pasta e clonar o projeto\n",
        "!mkdir projeto-final\n",
        "!git clone https://github.com/franciscosens/bcc-processamento-imagens-trabalho-final projeto-final --quiet\n",
        "\n",
        "# Copiar arquivos necessários\n",
        "!cp projeto-final/requirements.txt requirements.txt\n",
        "!cp projeto-final/setup.py setup.py\n",
        "!cp projeto-final/setup.cfg setup.cfg\n",
        "!cp projeto-final/domino.py domino.py\n",
        "!cp -r projeto-final/mrcnn mrcnn\n",
        "\n",
        "# Apagar projeto clonado\n",
        "shutil.rmtree('projeto-final', ignore_errors=True)"
      ],
      "execution_count": 1,
      "outputs": []
    },
    {
      "cell_type": "code",
      "metadata": {
        "id": "zEK-cYYobTT1",
        "colab_type": "code",
        "colab": {}
      },
      "source": [
        "%tensorflow_version 1.x\n",
        "%matplotlib inline "
      ],
      "execution_count": null,
      "outputs": []
    },
    {
      "cell_type": "code",
      "metadata": {
        "id": "5WsNskQGbUp7",
        "colab_type": "code",
        "colab": {}
      },
      "source": [
        "!pip install -r requirements.txt\n",
        "!python setup.py install"
      ],
      "execution_count": null,
      "outputs": []
    },
    {
      "cell_type": "code",
      "metadata": {
        "id": "2K1cscvvbP3K",
        "colab_type": "code",
        "colab": {}
      },
      "source": [
        "# Apagar diretórios\n",
        "import shutil\n",
        "shutil.rmtree('dataset', ignore_errors=True)\n",
        "\n",
        "# Criação dos diretórios necessários\n",
        "!mkdir dataset\n",
        "!mkdir dataset/train dataset/val\n",
        "\n",
        "# Criação da pasta para armazenar os pesos da rede neural\n",
        "!mkdir logs"
      ],
      "execution_count": 18,
      "outputs": []
    },
    {
      "cell_type": "code",
      "metadata": {
        "id": "yq0ddR4BbOUz",
        "colab_type": "code",
        "colab": {}
      },
      "source": [
        "# Download das imagens de treinamento e de teste\n",
        "!wget https://raw.githubusercontent.com/franciscosens/bcc-processamento-imagens-trabalho-final/master/dataset/val.zip -c --quiet\n",
        "!wget https://raw.githubusercontent.com/franciscosens/bcc-processamento-imagens-trabalho-final/master/dataset/test.zip -c --quiet\n",
        "\n",
        "# Descompactar imagens\n",
        "!unzip -qq val.zip -d dataset/val/\n",
        "!unzip -qq test.zip -d test/\n",
        "\n",
        "!rm val.zip\n",
        "! rm test.zip"
      ],
      "execution_count": 19,
      "outputs": []
    },
    {
      "cell_type": "code",
      "metadata": {
        "id": "RFwW5K4nbVsF",
        "colab_type": "code",
        "colab": {}
      },
      "source": [
        "from google.colab import drive\n",
        "drive.mount('/content/drive')\n",
        "!gsutil cp \"/content/drive/My Drive/Processamento de Imagens Projeto Final/mask_rcnn_shapes3.h5\" logs/"
      ],
      "execution_count": null,
      "outputs": []
    },
    {
      "cell_type": "code",
      "metadata": {
        "id": "NcTxbV4na_0M",
        "colab_type": "code",
        "colab": {}
      },
      "source": [
        "from mrcnn.config import Config\n",
        "\n",
        "class DominoConfig(Config):\n",
        "    \"\"\"Configuration for training on the toy  dataset.\n",
        "    Derives from the base Config class and overrides some values.\n",
        "    \"\"\"\n",
        "    # Give the configuration a recognizable name\n",
        "    NAME = \"dom\"\n",
        "\n",
        "    # We use a GPU with 12GB memory, which can fit two images.\n",
        "    # Adjust down if you use a smaller GPU.\n",
        "    IMAGES_PER_GPU = 1\n",
        "\n",
        "    # Number of classes (including background)\n",
        "    NUM_CLASSES = 1 + 1  # Background + domino\n",
        "\n",
        "    # Number of training steps per epoch\n",
        "    STEPS_PER_EPOCH = 100\n",
        "\n",
        "    # Skip detections with < 90% confidence\n",
        "    DETECTION_MIN_CONFIDENCE = 0.9"
      ],
      "execution_count": 16,
      "outputs": []
    },
    {
      "cell_type": "code",
      "metadata": {
        "id": "36mdZ2rvbDa5",
        "colab_type": "code",
        "colab": {}
      },
      "source": [
        "from domino import DominoDataset\n",
        "import os\n",
        "import cv2\n",
        "import sys\n",
        "import random\n",
        "import math\n",
        "import re\n",
        "import time\n",
        "import numpy as np\n",
        "import tensorflow as tf\n",
        "import matplotlib\n",
        "import matplotlib.pyplot as plt\n",
        "import matplotlib.patches as patches\n",
        "import skimage\n",
        "import glob\n",
        "from mrcnn import utils\n",
        "from mrcnn import visualize\n",
        "from mrcnn.visualize import display_images\n",
        "import mrcnn.model as modellib\n",
        "from mrcnn.model import log\n",
        "import json\n",
        "\n",
        "\n",
        "config = DominoConfig()\n",
        "\n",
        "# Root directory of the project\n",
        "ROOT_DIR = os.getcwd()\n",
        "\n",
        "# Import Mask RCNN\n",
        "sys.path.append(ROOT_DIR)  # To find local version of the library\n",
        "\n",
        "custom_WEIGHTS_PATH = \"logs/mask_rcnn_shapes3.h5\"\n",
        "\n",
        "%matplotlib inline \n",
        "\n",
        "# Directory to save logs and trained model\n",
        "MODEL_DIR = os.path.join(ROOT_DIR, \"logs\")\n",
        "\n",
        "\n",
        "custom_DIR = os.path.join(ROOT_DIR, \"dataset\")\n",
        "\n",
        "class InferenceConfig(config.__class__):\n",
        "    # Run detection on one image at a time\n",
        "    GPU_COUNT = 1\n",
        "    IMAGES_PER_GPU = 1\n",
        "\n",
        "config = InferenceConfig()\n",
        "config.display()\n",
        "\n",
        "# Device to load the neural network on.\n",
        "# Useful if you're training a model on the same \n",
        "# machine, in which case use CPU and leave the\n",
        "# GPU for training.\n",
        "DEVICE = \"/gpu:0\"  # /cpu:0 or /gpu:0\n",
        "\n",
        "# Inspect the model in training or inference modes\n",
        "# values: 'inference' or 'training'\n",
        "# TODO: code for 'training' test mode not ready yet\n",
        "TEST_MODE = \"inference\"\n",
        "\n",
        "def get_ax(rows=1, cols=1, size=16):\n",
        "    \"\"\"Return a Matplotlib Axes array to be used in\n",
        "    all visualizations in the notebook. Provide a\n",
        "    central point to control graph sizes.\n",
        "    \n",
        "    Adjust the size attribute to control how big to render images\n",
        "    \"\"\"\n",
        "    _, ax = plt.subplots(rows, cols, figsize=(size*cols, size*rows))\n",
        "    return ax\n",
        "\n",
        "# Load validation dataset\n",
        "dataset = DominoDataset()\n",
        "dataset.load_domino(custom_DIR, \"val\")\n",
        "\n",
        "# Must call before using the dataset\n",
        "dataset.prepare()\n",
        "\n",
        "print(\"Images: {}\\nClasses: {}\".format(len(dataset.image_ids), dataset.class_names))\n",
        "\n",
        "# Create model in inference mode\n",
        "with tf.device(DEVICE):\n",
        "    model = modellib.MaskRCNN(mode=\"inference\", model_dir=MODEL_DIR,\n",
        "                              config=config)\n",
        "\n",
        "# load the last model you trained\n",
        "# weights_path = model.find_last()[1]\n",
        "\n",
        "# Load weights\n",
        "print(\"Loading weights \", custom_WEIGHTS_PATH)\n",
        "model.load_weights(custom_WEIGHTS_PATH, by_name=True)\n",
        "\n",
        "from importlib import reload # was constantly changin the visualization, so I decided to reload it instead of notebook\n",
        "reload(visualize)"
      ],
      "execution_count": null,
      "outputs": []
    },
    {
      "cell_type": "code",
      "metadata": {
        "id": "Dc13rUL-bFNc",
        "colab_type": "code",
        "colab": {}
      },
      "source": [
        "from mrcnn import model as modellib, utils\n",
        "\n",
        "# Directory to save logs and trained model\n",
        "MODEL_DIR = os.path.join(ROOT_DIR, \"logs/\")\n",
        "\n",
        "# Local path to trained weights file\n",
        "COCO_MODEL_PATH = os.path.join(MODEL_DIR, \"mask_rcnn_shapes3.h5\")\n",
        "\n",
        "\n",
        "\n",
        "DEFAULT_LOGS_DIR = os.path.join(ROOT_DIR, \"logs\")\n",
        "# Create model object in inference mode.\n",
        "model = modellib.MaskRCNN(mode=\"inference\", model_dir=MODEL_DIR, config=config)\n",
        "\n",
        "# Load weights trained on MS-COCO\n",
        "model.load_weights(COCO_MODEL_PATH, by_name=True)"
      ],
      "execution_count": 21,
      "outputs": []
    },
    {
      "cell_type": "code",
      "metadata": {
        "id": "zBylrXqobG0A",
        "colab_type": "code",
        "colab": {}
      },
      "source": [
        "print(\"Images: {}\\nClasses: {}\".format(len(dataset.image_ids), dataset.class_names))"
      ],
      "execution_count": null,
      "outputs": []
    },
    {
      "cell_type": "code",
      "metadata": {
        "id": "duWFjAfKbIsP",
        "colab_type": "code",
        "colab": {}
      },
      "source": [
        "# Load a random image from the images folder\n",
        "try:\n",
        "    from cv2 import cv2 as cv2\n",
        "except ImportError:\n",
        "    pass\n",
        "\n",
        "from importlib import reload # was constantly changin the visualization, so I decided to reload it instead of notebook\n",
        "reload(visualize)\n",
        "folder_name = \"test/test2\"\n",
        "\n",
        "IMAGE_DIR = os.path.join(ROOT_DIR, folder_name)\n",
        "data_path = os.path.join(IMAGE_DIR ,'*g')\n",
        "file_names =  glob.glob(data_path)\n",
        "\n",
        "quantidade_total = len(file_names)\n",
        "quantidade = 0\n",
        "for file_name in file_names:\n",
        "  posicao = file_name.rindex('/')\n",
        "  \n",
        "  file_name = file_name[posicao+1:len(file_name)]\n",
        "  image = skimage.io.imread(os.path.join(IMAGE_DIR, file_name))\n",
        "\n",
        "  # Run detection\n",
        "  results = model.detect([image], verbose=1)\n",
        "\n",
        "  # Visualize results\n",
        "  r = results[0]\n",
        "  imagem = visualize.process_instances_and_return_image(image, r['rois'], r['masks'], r['class_ids'], \n",
        "                            dataset.class_names, r['scores'])\n",
        "  cv2.imwrite('/content/resultado/' + file_name, imagem)\n",
        "  quantidade = quantidade + 1\n",
        "  print(f'{quantidade} de {quantidade_total}')\n",
        "  break"
      ],
      "execution_count": null,
      "outputs": []
    },
    {
      "cell_type": "code",
      "metadata": {
        "id": "OzwEpn1Jbnl5",
        "colab_type": "code",
        "colab": {}
      },
      "source": [
        "!zip -r /content/resultado.zip /content/resultado\n",
        "from google.colab import files\n",
        "files.download(\"/content/resultado.zip\")"
      ],
      "execution_count": null,
      "outputs": []
    }
  ]
}